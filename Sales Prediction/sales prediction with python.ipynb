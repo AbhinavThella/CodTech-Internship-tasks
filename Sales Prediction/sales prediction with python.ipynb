{
 "cells": [
  {
   "cell_type": "code",
   "execution_count": 1,
   "metadata": {
    "id": "BHK4db86O0ml"
   },
   "outputs": [],
   "source": [
    "import numpy as np\n",
    "import pandas as pd\n",
    "import matplotlib.pyplot as plt\n",
    "import seaborn as sns\n",
    "import warnings\n",
    "warnings.filterwarnings(\"ignore\")"
   ]
  },
  {
   "cell_type": "code",
   "execution_count": 2,
   "metadata": {
    "colab": {
     "base_uri": "https://localhost:8080/",
     "height": 206
    },
    "id": "q5BAMyjyPM9g",
    "outputId": "300128fb-a62f-4e61-b007-9459d0d18289"
   },
   "outputs": [
    {
     "data": {
      "text/html": [
       "<div>\n",
       "<style scoped>\n",
       "    .dataframe tbody tr th:only-of-type {\n",
       "        vertical-align: middle;\n",
       "    }\n",
       "\n",
       "    .dataframe tbody tr th {\n",
       "        vertical-align: top;\n",
       "    }\n",
       "\n",
       "    .dataframe thead th {\n",
       "        text-align: right;\n",
       "    }\n",
       "</style>\n",
       "<table border=\"1\" class=\"dataframe\">\n",
       "  <thead>\n",
       "    <tr style=\"text-align: right;\">\n",
       "      <th></th>\n",
       "      <th>Unnamed: 0</th>\n",
       "      <th>TV</th>\n",
       "      <th>radio</th>\n",
       "      <th>newspaper</th>\n",
       "      <th>sales</th>\n",
       "    </tr>\n",
       "  </thead>\n",
       "  <tbody>\n",
       "    <tr>\n",
       "      <th>0</th>\n",
       "      <td>1</td>\n",
       "      <td>230.1</td>\n",
       "      <td>37.8</td>\n",
       "      <td>69.2</td>\n",
       "      <td>22.1</td>\n",
       "    </tr>\n",
       "    <tr>\n",
       "      <th>1</th>\n",
       "      <td>2</td>\n",
       "      <td>44.5</td>\n",
       "      <td>39.3</td>\n",
       "      <td>45.1</td>\n",
       "      <td>10.4</td>\n",
       "    </tr>\n",
       "    <tr>\n",
       "      <th>2</th>\n",
       "      <td>3</td>\n",
       "      <td>17.2</td>\n",
       "      <td>45.9</td>\n",
       "      <td>69.3</td>\n",
       "      <td>9.3</td>\n",
       "    </tr>\n",
       "    <tr>\n",
       "      <th>3</th>\n",
       "      <td>4</td>\n",
       "      <td>151.5</td>\n",
       "      <td>41.3</td>\n",
       "      <td>58.5</td>\n",
       "      <td>18.5</td>\n",
       "    </tr>\n",
       "    <tr>\n",
       "      <th>4</th>\n",
       "      <td>5</td>\n",
       "      <td>180.8</td>\n",
       "      <td>10.8</td>\n",
       "      <td>58.4</td>\n",
       "      <td>12.9</td>\n",
       "    </tr>\n",
       "  </tbody>\n",
       "</table>\n",
       "</div>"
      ],
      "text/plain": [
       "   Unnamed: 0     TV  radio  newspaper  sales\n",
       "0           1  230.1   37.8       69.2   22.1\n",
       "1           2   44.5   39.3       45.1   10.4\n",
       "2           3   17.2   45.9       69.3    9.3\n",
       "3           4  151.5   41.3       58.5   18.5\n",
       "4           5  180.8   10.8       58.4   12.9"
      ]
     },
     "execution_count": 2,
     "metadata": {},
     "output_type": "execute_result"
    }
   ],
   "source": [
    "df=pd.read_csv(\"Advertising.csv\")\n",
    "df.head()"
   ]
  },
  {
   "cell_type": "code",
   "execution_count": 3,
   "metadata": {
    "colab": {
     "base_uri": "https://localhost:8080/"
    },
    "id": "kPQ6iLiHPZTT",
    "outputId": "ad685d52-5fea-4bf3-93e4-b5a921476ad6"
   },
   "outputs": [
    {
     "data": {
      "text/plain": [
       "(200, 5)"
      ]
     },
     "execution_count": 3,
     "metadata": {},
     "output_type": "execute_result"
    }
   ],
   "source": [
    "df.shape"
   ]
  },
  {
   "cell_type": "code",
   "execution_count": 4,
   "metadata": {
    "colab": {
     "base_uri": "https://localhost:8080/",
     "height": 300
    },
    "id": "zFhNOwjoPi42",
    "outputId": "c595e86d-5679-413b-e089-a19ecdae7f71"
   },
   "outputs": [
    {
     "data": {
      "text/html": [
       "<div>\n",
       "<style scoped>\n",
       "    .dataframe tbody tr th:only-of-type {\n",
       "        vertical-align: middle;\n",
       "    }\n",
       "\n",
       "    .dataframe tbody tr th {\n",
       "        vertical-align: top;\n",
       "    }\n",
       "\n",
       "    .dataframe thead th {\n",
       "        text-align: right;\n",
       "    }\n",
       "</style>\n",
       "<table border=\"1\" class=\"dataframe\">\n",
       "  <thead>\n",
       "    <tr style=\"text-align: right;\">\n",
       "      <th></th>\n",
       "      <th>Unnamed: 0</th>\n",
       "      <th>TV</th>\n",
       "      <th>radio</th>\n",
       "      <th>newspaper</th>\n",
       "      <th>sales</th>\n",
       "    </tr>\n",
       "  </thead>\n",
       "  <tbody>\n",
       "    <tr>\n",
       "      <th>count</th>\n",
       "      <td>200.000000</td>\n",
       "      <td>200.000000</td>\n",
       "      <td>200.000000</td>\n",
       "      <td>200.000000</td>\n",
       "      <td>200.000000</td>\n",
       "    </tr>\n",
       "    <tr>\n",
       "      <th>mean</th>\n",
       "      <td>100.500000</td>\n",
       "      <td>147.042500</td>\n",
       "      <td>23.264000</td>\n",
       "      <td>30.554000</td>\n",
       "      <td>14.022500</td>\n",
       "    </tr>\n",
       "    <tr>\n",
       "      <th>std</th>\n",
       "      <td>57.879185</td>\n",
       "      <td>85.854236</td>\n",
       "      <td>14.846809</td>\n",
       "      <td>21.778621</td>\n",
       "      <td>5.217457</td>\n",
       "    </tr>\n",
       "    <tr>\n",
       "      <th>min</th>\n",
       "      <td>1.000000</td>\n",
       "      <td>0.700000</td>\n",
       "      <td>0.000000</td>\n",
       "      <td>0.300000</td>\n",
       "      <td>1.600000</td>\n",
       "    </tr>\n",
       "    <tr>\n",
       "      <th>25%</th>\n",
       "      <td>50.750000</td>\n",
       "      <td>74.375000</td>\n",
       "      <td>9.975000</td>\n",
       "      <td>12.750000</td>\n",
       "      <td>10.375000</td>\n",
       "    </tr>\n",
       "    <tr>\n",
       "      <th>50%</th>\n",
       "      <td>100.500000</td>\n",
       "      <td>149.750000</td>\n",
       "      <td>22.900000</td>\n",
       "      <td>25.750000</td>\n",
       "      <td>12.900000</td>\n",
       "    </tr>\n",
       "    <tr>\n",
       "      <th>75%</th>\n",
       "      <td>150.250000</td>\n",
       "      <td>218.825000</td>\n",
       "      <td>36.525000</td>\n",
       "      <td>45.100000</td>\n",
       "      <td>17.400000</td>\n",
       "    </tr>\n",
       "    <tr>\n",
       "      <th>max</th>\n",
       "      <td>200.000000</td>\n",
       "      <td>296.400000</td>\n",
       "      <td>49.600000</td>\n",
       "      <td>114.000000</td>\n",
       "      <td>27.000000</td>\n",
       "    </tr>\n",
       "  </tbody>\n",
       "</table>\n",
       "</div>"
      ],
      "text/plain": [
       "       Unnamed: 0          TV       radio   newspaper       sales\n",
       "count  200.000000  200.000000  200.000000  200.000000  200.000000\n",
       "mean   100.500000  147.042500   23.264000   30.554000   14.022500\n",
       "std     57.879185   85.854236   14.846809   21.778621    5.217457\n",
       "min      1.000000    0.700000    0.000000    0.300000    1.600000\n",
       "25%     50.750000   74.375000    9.975000   12.750000   10.375000\n",
       "50%    100.500000  149.750000   22.900000   25.750000   12.900000\n",
       "75%    150.250000  218.825000   36.525000   45.100000   17.400000\n",
       "max    200.000000  296.400000   49.600000  114.000000   27.000000"
      ]
     },
     "execution_count": 4,
     "metadata": {},
     "output_type": "execute_result"
    }
   ],
   "source": [
    "df.describe()"
   ]
  },
  {
   "cell_type": "code",
   "execution_count": 5,
   "metadata": {
    "colab": {
     "base_uri": "https://localhost:8080/"
    },
    "id": "uLGSCrFSPncv",
    "outputId": "54c61c6f-83c1-4902-ed59-21717c59af2b"
   },
   "outputs": [
    {
     "data": {
      "text/plain": [
       "['Unnamed: 0', 'TV', 'radio', 'newspaper', 'sales']"
      ]
     },
     "execution_count": 5,
     "metadata": {},
     "output_type": "execute_result"
    }
   ],
   "source": [
    "df.columns.values.tolist()"
   ]
  },
  {
   "cell_type": "code",
   "execution_count": 6,
   "metadata": {
    "colab": {
     "base_uri": "https://localhost:8080/"
    },
    "id": "huchbN2nXV_m",
    "outputId": "6c25aca9-3719-4e67-b286-64f4e25e8093"
   },
   "outputs": [
    {
     "name": "stdout",
     "output_type": "stream",
     "text": [
      "<class 'pandas.core.frame.DataFrame'>\n",
      "RangeIndex: 200 entries, 0 to 199\n",
      "Data columns (total 5 columns):\n",
      "Unnamed: 0    200 non-null int64\n",
      "TV            200 non-null float64\n",
      "radio         200 non-null float64\n",
      "newspaper     200 non-null float64\n",
      "sales         200 non-null float64\n",
      "dtypes: float64(4), int64(1)\n",
      "memory usage: 7.9 KB\n"
     ]
    }
   ],
   "source": [
    "df.info()"
   ]
  },
  {
   "cell_type": "code",
   "execution_count": 7,
   "metadata": {
    "colab": {
     "base_uri": "https://localhost:8080/"
    },
    "id": "odNOEgpwXbTP",
    "outputId": "2c647613-61a3-46dd-9904-68e7c2c95590"
   },
   "outputs": [
    {
     "data": {
      "text/plain": [
       "Unnamed: 0    0\n",
       "TV            0\n",
       "radio         0\n",
       "newspaper     0\n",
       "sales         0\n",
       "dtype: int64"
      ]
     },
     "execution_count": 7,
     "metadata": {},
     "output_type": "execute_result"
    }
   ],
   "source": [
    "df.isnull().sum()"
   ]
  },
  {
   "cell_type": "code",
   "execution_count": 8,
   "metadata": {
    "colab": {
     "base_uri": "https://localhost:8080/",
     "height": 506
    },
    "id": "FU72TXx2XpcV",
    "outputId": "c7c9e8fe-7d11-4adc-8289-b3b94b2f3dfd"
   },
   "outputs": [
    {
     "data": {
      "image/png": "[encoded data removed]",
      "text/plain": [
       "<Figure size 500x500 with 3 Axes>"
      ]
     },
     "metadata": {},
     "output_type": "display_data"
    }
   ],
   "source": [
    "fig, axs=plt.subplots(3, figsize=(5,5))\n",
    "plt1= sns.boxplot(df['TV'], ax=axs[0])\n",
    "plt2= sns.boxplot(df['newspaper'], ax=axs[1])\n",
    "plt3= sns.boxplot(df['radio'], ax=axs[2])\n",
    "plt.tight_layout()\n"
   ]
  },
  {
   "cell_type": "code",
   "execution_count": 9,
   "metadata": {
    "colab": {
     "base_uri": "https://localhost:8080/",
     "height": 466
    },
    "id": "dE3aSXTpak2Q",
    "outputId": "12d832dc-875c-44c2-a656-0e85640fbea9"
   },
   "outputs": [
    {
     "data": {
      "text/plain": [
       "<matplotlib.axes._subplots.AxesSubplot at 0x246cd143208>"
      ]
     },
     "execution_count": 9,
     "metadata": {},
     "output_type": "execute_result"
    },
    {
     "data": {
      "image/png": "[encoded data removed]",
      "text/plain": [
       "<Figure size 640x480 with 1 Axes>"
      ]
     },
     "metadata": {},
     "output_type": "display_data"
    }
   ],
   "source": [
    "sns.distplot(df[\"newspaper\"])"
   ]
  },
  {
   "cell_type": "code",
   "execution_count": 10,
   "metadata": {
    "id": "f1VioZBIa85Q"
   },
   "outputs": [],
   "source": [
    "iqr=df.newspaper.quantile(0.75)-df.newspaper.quantile(0.25)"
   ]
  },
  {
   "cell_type": "code",
   "execution_count": 11,
   "metadata": {
    "colab": {
     "base_uri": "https://localhost:8080/"
    },
    "id": "8Bgs_gOebQDs",
    "outputId": "e02c55f9-ff46-4a0a-e434-da41cfef1750"
   },
   "outputs": [
    {
     "name": "stdout",
     "output_type": "stream",
     "text": [
      "-35.775000000000006\n",
      "93.625\n"
     ]
    }
   ],
   "source": [
    "lower_bridge=df['newspaper'].quantile(0.25)-(iqr*1.5)\n",
    "upper_bridge=df['newspaper'].quantile(0.75)+(iqr*1.5)\n",
    "print(lower_bridge)\n",
    "print(upper_bridge)"
   ]
  },
  {
   "cell_type": "code",
   "execution_count": 12,
   "metadata": {
    "id": "QQa6CO9Vw2nz"
   },
   "outputs": [],
   "source": [
    "data=df.copy()"
   ]
  },
  {
   "cell_type": "code",
   "execution_count": 13,
   "metadata": {
    "id": "ipevBwuEw7ea"
   },
   "outputs": [],
   "source": [
    "data.loc[data['newspaper']>=93, 'newspaper']=93"
   ]
  },
  {
   "cell_type": "code",
   "execution_count": 14,
   "metadata": {
    "colab": {
     "base_uri": "https://localhost:8080/",
     "height": 428
    },
    "id": "HRhLSTJzxMIP",
    "outputId": "208bfc1e-71b6-41a3-e8c9-4254c75b73fb"
   },
   "outputs": [
    {
     "data": {
      "text/plain": [
       "<matplotlib.axes._subplots.AxesSubplot at 0x246cd239dd8>"
      ]
     },
     "execution_count": 14,
     "metadata": {},
     "output_type": "execute_result"
    },
    {
     "data": {
      "image/png": "[encoded data removed]",
      "text/plain": [
       "<Figure size 640x480 with 1 Axes>"
      ]
     },
     "metadata": {},
     "output_type": "display_data"
    }
   ],
   "source": [
    "sns.boxplot(data[\"newspaper\"])"
   ]
  },
  {
   "cell_type": "code",
   "execution_count": 15,
   "metadata": {
    "colab": {
     "base_uri": "https://localhost:8080/",
     "height": 411
    },
    "id": "PF3clDq2xSXD",
    "outputId": "7f0fd6ba-cb97-4917-c1dc-45c52a22b828"
   },
   "outputs": [
    {
     "data": {
      "image/png": "[encoded data removed]",
      "text/plain": [
       "<Figure size 640x480 with 1 Axes>"
      ]
     },
     "metadata": {},
     "output_type": "display_data"
    }
   ],
   "source": [
    "sns.boxplot(data['sales']);"
   ]
  },
  {
   "cell_type": "code",
   "execution_count": 16,
   "metadata": {
    "colab": {
     "base_uri": "https://localhost:8080/",
     "height": 242
    },
    "id": "lqgHXHXaxnvX",
    "outputId": "e8333447-37b6-4977-f2db-3ca29e1e2a25"
   },
   "outputs": [
    {
     "data": {
      "image/png": "[encoded data removed]",
      "text/plain": [
       "<Figure size 1200x400 with 3 Axes>"
      ]
     },
     "metadata": {},
     "output_type": "display_data"
    }
   ],
   "source": [
    "sns.pairplot(data, x_vars=['TV', 'newspaper', 'radio'],\n",
    "             y_vars='sales', height=4, aspect=1, kind='scatter')\n",
    "plt.show()"
   ]
  },
  {
   "cell_type": "code",
   "execution_count": 17,
   "metadata": {
    "colab": {
     "base_uri": "https://localhost:8080/",
     "height": 435
    },
    "id": "8eGk54A5yIvd",
    "outputId": "3cc43335-182d-4a49-c508-8df58a39495b"
   },
   "outputs": [
    {
     "data": {
      "image/png": "[encoded data removed]",
      "text/plain": [
       "<Figure size 640x480 with 2 Axes>"
      ]
     },
     "metadata": {},
     "output_type": "display_data"
    }
   ],
   "source": [
    "sns.heatmap(data.corr(), cmap='YlGnBu',annot=True)\n",
    "plt.show()"
   ]
  },
  {
   "cell_type": "code",
   "execution_count": 18,
   "metadata": {
    "id": "MLf9ErKcye-P"
   },
   "outputs": [],
   "source": [
    "important_features=list(df.corr()['sales'][(df.corr()['sales']>+0.5)|(df.corr()['sales']<-0.5)].index)"
   ]
  },
  {
   "cell_type": "code",
   "execution_count": 19,
   "metadata": {
    "colab": {
     "base_uri": "https://localhost:8080/"
    },
    "id": "FRvfB8_TzyPj",
    "outputId": "34ce3a1b-55d1-4eb2-d0cd-1c391e37fefe"
   },
   "outputs": [
    {
     "name": "stdout",
     "output_type": "stream",
     "text": [
      "['TV', 'radio', 'sales']\n"
     ]
    }
   ],
   "source": [
    "print(important_features)"
   ]
  },
  {
   "cell_type": "code",
   "execution_count": 20,
   "metadata": {
    "id": "ZAwO6Szkz30j"
   },
   "outputs": [],
   "source": [
    "x=data['TV']\n",
    "y=data['sales']"
   ]
  },
  {
   "cell_type": "code",
   "execution_count": 21,
   "metadata": {
    "colab": {
     "base_uri": "https://localhost:8080/"
    },
    "id": "6kPK4vLC0pIF",
    "outputId": "7b5362a4-dd35-4a62-e84f-a8347def2094"
   },
   "outputs": [
    {
     "data": {
      "text/plain": [
       "0      230.1\n",
       "1       44.5\n",
       "2       17.2\n",
       "3      151.5\n",
       "4      180.8\n",
       "       ...  \n",
       "195     38.2\n",
       "196     94.2\n",
       "197    177.0\n",
       "198    283.6\n",
       "199    232.1\n",
       "Name: TV, Length: 200, dtype: float64"
      ]
     },
     "execution_count": 21,
     "metadata": {},
     "output_type": "execute_result"
    }
   ],
   "source": [
    "x"
   ]
  },
  {
   "cell_type": "code",
   "execution_count": 22,
   "metadata": {
    "colab": {
     "base_uri": "https://localhost:8080/"
    },
    "id": "6UMFwZSg1lpY",
    "outputId": "9fd90281-f866-4a82-db61-6d65ac2e6502"
   },
   "outputs": [
    {
     "data": {
      "text/plain": [
       "0      22.1\n",
       "1      10.4\n",
       "2       9.3\n",
       "3      18.5\n",
       "4      12.9\n",
       "       ... \n",
       "195     7.6\n",
       "196     9.7\n",
       "197    12.8\n",
       "198    25.5\n",
       "199    13.4\n",
       "Name: sales, Length: 200, dtype: float64"
      ]
     },
     "execution_count": 22,
     "metadata": {},
     "output_type": "execute_result"
    }
   ],
   "source": [
    "y"
   ]
  },
  {
   "cell_type": "code",
   "execution_count": 23,
   "metadata": {
    "colab": {
     "base_uri": "https://localhost:8080/"
    },
    "id": "3mD9OdBS10y4",
    "outputId": "df9dc8bf-f8c4-47d7-81a7-f27890986929"
   },
   "outputs": [
    {
     "name": "stdout",
     "output_type": "stream",
     "text": [
      "(200,) (200,)\n"
     ]
    }
   ],
   "source": [
    "print(x.shape,y.shape)"
   ]
  },
  {
   "cell_type": "code",
   "execution_count": 24,
   "metadata": {
    "id": "9y-HI6n62DZt"
   },
   "outputs": [],
   "source": [
    "from sklearn.model_selection import train_test_split\n",
    "x_train,x_test,y_train,y_test=train_test_split(x,y, test_size=0.33)"
   ]
  },
  {
   "cell_type": "code",
   "execution_count": 25,
   "metadata": {
    "colab": {
     "base_uri": "https://localhost:8080/"
    },
    "id": "WK_bxKVv2swb",
    "outputId": "f5ac67c8-bb25-42b0-bb2d-299e6a14e17e"
   },
   "outputs": [
    {
     "name": "stdout",
     "output_type": "stream",
     "text": [
      "(134,) (134,)\n"
     ]
    }
   ],
   "source": [
    "print(x_train.shape,y_train.shape)"
   ]
  },
  {
   "cell_type": "code",
   "execution_count": 26,
   "metadata": {
    "id": "ILHkW3R-21jJ"
   },
   "outputs": [],
   "source": [
    "from sklearn.metrics import mean_squared_error, r2_score\n",
    "from sklearn.model_selection import cross_val_score,GridSearchCV\n",
    "from sklearn.neighbors import KNeighborsRegressor\n",
    "from sklearn.svm import SVR\n",
    "from sklearn.tree import DecisionTreeRegressor\n",
    "from sklearn.ensemble import RandomForestRegressor"
   ]
  },
  {
   "cell_type": "code",
   "execution_count": 42,
   "metadata": {},
   "outputs": [],
   "source": [
    "x_train_reshaped = np.reshape(x_train.values, (-1, 1))\n",
    "x_test_reshaped = x_test.values.reshape(-1, 1)"
   ]
  },
  {
   "cell_type": "code",
   "execution_count": 37,
   "metadata": {
    "colab": {
     "base_uri": "https://localhost:8080/",
     "height": 74
    },
    "id": "s0uWaqtk3whc",
    "outputId": "0850586b-9d86-4324-964f-a9ad30e725d9"
   },
   "outputs": [
    {
     "data": {
      "text/plain": [
       "KNeighborsRegressor(algorithm='auto', leaf_size=30, metric='minkowski',\n",
       "                    metric_params=None, n_jobs=None, n_neighbors=5, p=2,\n",
       "                    weights='uniform')"
      ]
     },
     "execution_count": 37,
     "metadata": {},
     "output_type": "execute_result"
    }
   ],
   "source": [
    "knn=KNeighborsRegressor().fit(x_train_reshaped, y_train)\n",
    "knn"
   ]
  },
  {
   "cell_type": "code",
   "execution_count": 40,
   "metadata": {
    "id": "Je_CV0RY4IhE"
   },
   "outputs": [],
   "source": [
    "knn_train_pred=knn.predict(x_train_reshaped)"
   ]
  },
  {
   "cell_type": "code",
   "execution_count": 44,
   "metadata": {
    "id": "oeDMe1Fh4WoX"
   },
   "outputs": [],
   "source": [
    "knn_test_pred=knn.predict(x_test_reshaped)"
   ]
  },
  {
   "cell_type": "code",
   "execution_count": 45,
   "metadata": {
    "colab": {
     "base_uri": "https://localhost:8080/"
    },
    "id": "1PhVYTYR8SuU",
    "outputId": "fa4ce835-6854-498e-e4c1-9b88e7cad9e4"
   },
   "outputs": [
    {
     "name": "stdout",
     "output_type": "stream",
     "text": [
      "[14.06 15.02  6.1  10.44 16.28 12.1  19.36 13.4  14.66 18.1  12.1   5.7\n",
      " 21.44 20.52 22.56 12.14 16.34 13.7  13.44 17.1  18.32 14.3  21.9  10.44\n",
      " 14.66 13.16  7.78 16.    6.56 12.14 11.8  13.16 13.54 18.9  12.58 11.8\n",
      " 18.9   9.68 16.   16.34 11.56  6.04 10.44 18.34 15.74  4.9   7.02  7.74\n",
      " 20.22 16.26 11.58 11.38 11.92 16.34 14.9  14.9  18.9   5.7  15.74 20.22\n",
      " 21.56 10.88 13.7  10.44 10.86 14.3  10.38 18.96 18.32 14.66 14.06 17.54\n",
      " 19.16 19.16  6.56 12.16 14.32 15.92 13.   14.44 17.54  7.74 13.34 12.58\n",
      " 14.9  19.16 13.7  16.34  7.02  7.78  4.26 22.56 19.9  12.1  18.9  13.6\n",
      " 15.02 12.1  22.56  6.1   7.78 13.78 19.96 18.9  12.16 14.06 10.88  4.26\n",
      " 17.1   7.02 14.32  7.74 14.5  18.96 18.96  7.78 17.54 12.58 16.28 14.66\n",
      " 18.44  7.74 12.16 11.92  7.74 18.1  10.88 10.24 15.6  10.44 19.9  16.34\n",
      " 16.12 17.66] [ 7.02  8.46 14.32 10.38 12.58 14.3   9.9  14.3  14.32 17.46 15.66 19.36\n",
      "  7.74 14.32 15.02 12.14 12.14 10.44 17.64 14.32 22.56 20.52 23.3  11.8\n",
      " 22.56 13.8  11.56 20.8  14.44 16.34 15.32 10.16 11.8  18.44 11.58  7.8\n",
      "  5.7  17.64 12.16 13.16 22.56 13.4  11.8  15.66 10.44  9.9  18.9  11.56\n",
      " 10.44 14.3  19.7  13.78 18.34 11.56 18.26 19.7  10.38 17.1  18.96 15.32\n",
      " 10.24 14.32 19.54 18.76 17.1  17.28]\n"
     ]
    }
   ],
   "source": [
    "print(knn_train_pred, knn_test_pred)"
   ]
  },
  {
   "cell_type": "code",
   "execution_count": 46,
   "metadata": {
    "id": "uZDQ9VfF8bvO"
   },
   "outputs": [],
   "source": [
    "Results=pd.DataFrame(columns=[\"Model\",\"Train R2\",\"Test R2\"\"Test RMSE\",\"Variance\"])"
   ]
  },
  {
   "cell_type": "code",
   "execution_count": 47,
   "metadata": {
    "colab": {
     "base_uri": "https://localhost:8080/"
    },
    "id": "jjiwCnMf81qe",
    "outputId": "6e4fd01e-c058-497b-cb46-65b65354a7e7"
   },
   "outputs": [
    {
     "name": "stdout",
     "output_type": "stream",
     "text": [
      "R2: 0.44155384283465005\n",
      "RMSE: 3.34235445955891\n"
     ]
    }
   ],
   "source": [
    "r2=r2_score(y_test,knn_test_pred)\n",
    "r2_train=r2_score(y_train,knn_train_pred)\n",
    "rmse=np.sqrt(mean_squared_error(y_test,knn_test_pred))\n",
    "variance=r2_train-r2\n",
    "Results=Results.append({\"Model\":\"K-Nearest Neighbors\",\"Train R2\":r2_train,\"Test R2\":r2_train,\"Test R2\":r2,\"Test RMSE\":rmse,\"variance\":variance},ignore_index=True)\n",
    "print(\"R2:\",r2)\n",
    "print(\"RMSE:\",rmse)"
   ]
  },
  {
   "cell_type": "code",
   "execution_count": 48,
   "metadata": {
    "colab": {
     "base_uri": "https://localhost:8080/",
     "height": 115
    },
    "id": "PyEW0T7-Av9m",
    "outputId": "98da2002-d03b-45ed-db0c-c13999465010"
   },
   "outputs": [
    {
     "data": {
      "text/html": [
       "<div>\n",
       "<style scoped>\n",
       "    .dataframe tbody tr th:only-of-type {\n",
       "        vertical-align: middle;\n",
       "    }\n",
       "\n",
       "    .dataframe tbody tr th {\n",
       "        vertical-align: top;\n",
       "    }\n",
       "\n",
       "    .dataframe thead th {\n",
       "        text-align: right;\n",
       "    }\n",
       "</style>\n",
       "<table border=\"1\" class=\"dataframe\">\n",
       "  <thead>\n",
       "    <tr style=\"text-align: right;\">\n",
       "      <th></th>\n",
       "      <th>Model</th>\n",
       "      <th>Train R2</th>\n",
       "      <th>Test R2Test RMSE</th>\n",
       "      <th>Variance</th>\n",
       "      <th>Test R2</th>\n",
       "      <th>Test RMSE</th>\n",
       "      <th>variance</th>\n",
       "    </tr>\n",
       "  </thead>\n",
       "  <tbody>\n",
       "    <tr>\n",
       "      <th>0</th>\n",
       "      <td>K-Nearest Neighbors</td>\n",
       "      <td>0.671018</td>\n",
       "      <td>NaN</td>\n",
       "      <td>NaN</td>\n",
       "      <td>0.441554</td>\n",
       "      <td>3.342354</td>\n",
       "      <td>0.229465</td>\n",
       "    </tr>\n",
       "  </tbody>\n",
       "</table>\n",
       "</div>"
      ],
      "text/plain": [
       "                 Model  Train R2  Test R2Test RMSE  Variance   Test R2  \\\n",
       "0  K-Nearest Neighbors  0.671018               NaN       NaN  0.441554   \n",
       "\n",
       "   Test RMSE  variance  \n",
       "0   3.342354  0.229465  "
      ]
     },
     "execution_count": 48,
     "metadata": {},
     "output_type": "execute_result"
    }
   ],
   "source": [
    "Results.head()"
   ]
  },
  {
   "cell_type": "code",
   "execution_count": 51,
   "metadata": {
    "colab": {
     "base_uri": "https://localhost:8080/",
     "height": 74
    },
    "id": "DooJw01iCTwu",
    "outputId": "ae950daa-d942-4368-d130-8e2129185910"
   },
   "outputs": [
    {
     "data": {
      "text/plain": [
       "SVR(C=1.0, cache_size=200, coef0=0.0, degree=3, epsilon=0.1, gamma='scale',\n",
       "    kernel='rbf', max_iter=-1, shrinking=True, tol=0.001, verbose=False)"
      ]
     },
     "execution_count": 51,
     "metadata": {},
     "output_type": "execute_result"
    }
   ],
   "source": [
    "svr=SVR().fit(x_train_reshaped,y_train)\n",
    "svr"
   ]
  },
  {
   "cell_type": "code",
   "execution_count": 52,
   "metadata": {
    "id": "slpoNjnxCejJ"
   },
   "outputs": [],
   "source": [
    "svr_train_pred=svr.predict(x_train_reshaped)\n",
    "svr_test_pred=svr.predict(x_test_reshaped)"
   ]
  },
  {
   "cell_type": "code",
   "execution_count": 53,
   "metadata": {
    "colab": {
     "base_uri": "https://localhost:8080/"
    },
    "id": "aeTSBhuHCxsF",
    "outputId": "4e7b93d7-48e1-4139-c443-dfa1440afc4e"
   },
   "outputs": [
    {
     "name": "stdout",
     "output_type": "stream",
     "text": [
      "[12.9798392  17.72845897  7.29729327  8.99865632 15.70669017 10.81647329\n",
      " 17.65249135 12.22013593 15.03758848 19.21384729 10.84858265  7.29247808\n",
      " 19.07782709 17.35092068 18.99555854 10.50014669 16.33249932 12.300344\n",
      " 13.15136927 18.61779979 17.55153997 13.25685796 19.06616738  8.69353385\n",
      " 14.9266947  13.56353755  7.59196936 16.04668848  7.42618451 10.59092404\n",
      " 11.81334963 13.6656227  14.65023783 19.26711672 12.63277133 11.85230509\n",
      " 19.2533816   9.56183797 16.07905763 16.43019758 10.46573045  7.3803959\n",
      "  9.01104341 16.92891603 18.25468963  7.22841003  7.65163021  8.0799392\n",
      " 17.46713517 15.91121224 11.72147999 12.05675938 12.53842399 16.4171708\n",
      " 17.87689877 17.96574027 19.24170053  7.26720112 18.28453539 17.42453293\n",
      " 19.16075138 10.90156972 12.32995925  8.91227855 11.36606872 13.26044193\n",
      " 11.10174651 18.72591793 17.52753675 14.96150088 12.99958628 15.37507206\n",
      " 19.13875461 19.15181806  7.42302148 11.57527791 14.40419895 18.38144686\n",
      " 12.12392036 14.77823163 15.51771901  7.98847346 13.11702253 12.72383174\n",
      " 17.87689877 19.09352566 12.300344   16.47578509  7.62739065  7.56521185\n",
      "  7.15960666 18.81289389 18.83910078 10.85923315 19.25481655 12.40145195\n",
      " 17.76889577 10.83790578 18.93632928  7.29972604  7.56521185 13.33310886\n",
      " 19.24592193 19.27124384 11.43448539 12.92440887 10.90683176  7.20547546\n",
      " 18.65073454  7.65981965 14.29645562  8.02364321 13.086429   18.71820816\n",
      " 18.72591793  7.5539598  15.51771901 12.65787585 15.70034399 15.03758848\n",
      " 17.18287632  7.90049043 11.48366942 12.50047753  7.90528285 19.21126376\n",
      " 10.90683176 10.10547092 15.73846559  8.53949956 18.78583132 16.33249932\n",
      " 18.49228278 16.81316374] [ 7.62339904  8.233992   14.34739775 11.00039331 12.64218594 13.29653677\n",
      "  9.34214487 13.21067425 14.55235025 15.2649808  18.17857385 17.64660233\n",
      "  7.92941601 14.28634705 17.75737683 10.51157408 11.97318165  8.60419952\n",
      " 16.75503298 13.7372344  18.71411912 17.34475467 19.03712847 11.79365086\n",
      " 18.83629179 12.80591321 10.33201135 19.13065974 14.71105096 16.47578509\n",
      " 18.13712639  9.8113616  10.74610088 17.17659424 11.73364713  7.84388996\n",
      "  7.27843669 16.65136198 11.54507234 13.66146632 18.90631208 13.96320739\n",
      " 11.86387871 18.19396561  8.90613283  9.2355134  19.26846704 10.43111656\n",
      "  8.61603954 13.26762362 19.0011836  13.39266256 16.93532396 10.3788352\n",
      " 19.16114824 19.01215679  9.73058498 18.69478863 18.71433509 18.06322008\n",
      "  9.94094248 14.46706998 17.10724486 17.60520402 18.61779979 16.18936214]\n"
     ]
    }
   ],
   "source": [
    "print(svr_train_pred,svr_test_pred)"
   ]
  },
  {
   "cell_type": "code",
   "execution_count": 54,
   "metadata": {
    "colab": {
     "base_uri": "https://localhost:8080/"
    },
    "id": "gmgE4Us0DCAN",
    "outputId": "2f72aa53-0c76-4845-aba8-9bd34b4f0416"
   },
   "outputs": [
    {
     "name": "stdout",
     "output_type": "stream",
     "text": [
      "R2: 0.5586975184157237\n",
      "RMSE: 2.9711873456493323\n"
     ]
    }
   ],
   "source": [
    "r2=r2_score(y_test,svr_test_pred)\n",
    "r2_train=r2_score(y_train,svr_train_pred)\n",
    "rmse=np.sqrt(mean_squared_error(y_test,svr_test_pred))\n",
    "variance=r2_train-r2\n",
    "Results=Results.append({\"Model\":\"Support Vector Machine\",\"Train R2\":r2_train,\"Test R2\":r2_train,\"Test R2\":r2,\"Test RMSE\":rmse,\"variance\":variance},ignore_index=True)\n",
    "print(\"R2:\",r2)\n",
    "print(\"RMSE:\",rmse)"
   ]
  },
  {
   "cell_type": "code",
   "execution_count": 55,
   "metadata": {
    "colab": {
     "base_uri": "https://localhost:8080/",
     "height": 164
    },
    "id": "AwplHcd9ED6S",
    "outputId": "3b702e18-26ff-46d1-a632-1e49b4887c8a"
   },
   "outputs": [
    {
     "data": {
      "text/html": [
       "<div>\n",
       "<style scoped>\n",
       "    .dataframe tbody tr th:only-of-type {\n",
       "        vertical-align: middle;\n",
       "    }\n",
       "\n",
       "    .dataframe tbody tr th {\n",
       "        vertical-align: top;\n",
       "    }\n",
       "\n",
       "    .dataframe thead th {\n",
       "        text-align: right;\n",
       "    }\n",
       "</style>\n",
       "<table border=\"1\" class=\"dataframe\">\n",
       "  <thead>\n",
       "    <tr style=\"text-align: right;\">\n",
       "      <th></th>\n",
       "      <th>Model</th>\n",
       "      <th>Train R2</th>\n",
       "      <th>Test R2Test RMSE</th>\n",
       "      <th>Variance</th>\n",
       "      <th>Test R2</th>\n",
       "      <th>Test RMSE</th>\n",
       "      <th>variance</th>\n",
       "    </tr>\n",
       "  </thead>\n",
       "  <tbody>\n",
       "    <tr>\n",
       "      <th>0</th>\n",
       "      <td>K-Nearest Neighbors</td>\n",
       "      <td>0.671018</td>\n",
       "      <td>NaN</td>\n",
       "      <td>NaN</td>\n",
       "      <td>0.441554</td>\n",
       "      <td>3.342354</td>\n",
       "      <td>0.229465</td>\n",
       "    </tr>\n",
       "    <tr>\n",
       "      <th>1</th>\n",
       "      <td>Support Vector Machine</td>\n",
       "      <td>0.617502</td>\n",
       "      <td>NaN</td>\n",
       "      <td>NaN</td>\n",
       "      <td>0.558698</td>\n",
       "      <td>2.971187</td>\n",
       "      <td>0.058805</td>\n",
       "    </tr>\n",
       "  </tbody>\n",
       "</table>\n",
       "</div>"
      ],
      "text/plain": [
       "                    Model  Train R2  Test R2Test RMSE  Variance   Test R2  \\\n",
       "0     K-Nearest Neighbors  0.671018               NaN       NaN  0.441554   \n",
       "1  Support Vector Machine  0.617502               NaN       NaN  0.558698   \n",
       "\n",
       "   Test RMSE  variance  \n",
       "0   3.342354  0.229465  \n",
       "1   2.971187  0.058805  "
      ]
     },
     "execution_count": 55,
     "metadata": {},
     "output_type": "execute_result"
    }
   ],
   "source": [
    "Results.head()"
   ]
  },
  {
   "cell_type": "code",
   "execution_count": 60,
   "metadata": {
    "id": "_uq_dbpDEKfX"
   },
   "outputs": [],
   "source": [
    "#!pip install statsmodels\n",
    "import statsmodels.api as sm"
   ]
  },
  {
   "cell_type": "code",
   "execution_count": 61,
   "metadata": {
    "id": "amLDgwTBEV7w"
   },
   "outputs": [],
   "source": [
    "x_train_constant=sm.add_constant(x_train_reshaped)"
   ]
  },
  {
   "cell_type": "code",
   "execution_count": 62,
   "metadata": {
    "id": "ykUbcC5yEesG"
   },
   "outputs": [],
   "source": [
    "model=sm.OLS(y_train, x_train_constant).fit()"
   ]
  },
  {
   "cell_type": "code",
   "execution_count": 63,
   "metadata": {
    "colab": {
     "base_uri": "https://localhost:8080/"
    },
    "id": "DGU7O3AEEscS",
    "outputId": "b64c52e9-e52d-47f3-e626-dafe7ae22b18"
   },
   "outputs": [
    {
     "data": {
      "text/plain": [
       "const    6.664662\n",
       "x1       0.050247\n",
       "dtype: float64"
      ]
     },
     "execution_count": 63,
     "metadata": {},
     "output_type": "execute_result"
    }
   ],
   "source": [
    "model.params"
   ]
  },
  {
   "cell_type": "code",
   "execution_count": 64,
   "metadata": {
    "colab": {
     "base_uri": "https://localhost:8080/"
    },
    "id": "fVnlihODEwED",
    "outputId": "56524bd2-9641-4d37-8d21-cac733748745"
   },
   "outputs": [
    {
     "name": "stdout",
     "output_type": "stream",
     "text": [
      "                            OLS Regression Results                            \n",
      "==============================================================================\n",
      "Dep. Variable:                  sales   R-squared:                       0.629\n",
      "Model:                            OLS   Adj. R-squared:                  0.627\n",
      "Method:                 Least Squares   F-statistic:                     224.2\n",
      "Date:                Fri, 23 Feb 2024   Prob (F-statistic):           3.04e-30\n",
      "Time:                        21:45:50   Log-Likelihood:                -352.71\n",
      "No. Observations:                 134   AIC:                             709.4\n",
      "Df Residuals:                     132   BIC:                             715.2\n",
      "Df Model:                           1                                         \n",
      "Covariance Type:            nonrobust                                         \n",
      "==============================================================================\n",
      "                 coef    std err          t      P>|t|      [0.025      0.975]\n",
      "------------------------------------------------------------------------------\n",
      "const          6.6647      0.567     11.763      0.000       5.544       7.785\n",
      "x1             0.0502      0.003     14.974      0.000       0.044       0.057\n",
      "==============================================================================\n",
      "Omnibus:                        1.597   Durbin-Watson:                   2.048\n",
      "Prob(Omnibus):                  0.450   Jarque-Bera (JB):                1.672\n",
      "Skew:                          -0.241   Prob(JB):                        0.433\n",
      "Kurtosis:                       2.742   Cond. No.                         327.\n",
      "==============================================================================\n",
      "\n",
      "Notes:\n",
      "[1] Standard Errors assume that the covariance matrix of the errors is correctly specified.\n"
     ]
    }
   ],
   "source": [
    "print(model.summary())"
   ]
  },
  {
   "cell_type": "code",
   "execution_count": 65,
   "metadata": {
    "colab": {
     "base_uri": "https://localhost:8080/",
     "height": 430
    },
    "id": "_c-xHoyRE_BC",
    "outputId": "7d22852d-9875-4339-d156-49b459749a1f"
   },
   "outputs": [
    {
     "data": {
      "image/png": "[encoded data removed]",
      "text/plain": [
       "<Figure size 640x480 with 1 Axes>"
      ]
     },
     "metadata": {},
     "output_type": "display_data"
    }
   ],
   "source": [
    "plt.scatter(x_train, y_train)\n",
    "plt.plot(x_train, 6.9955+0.0541*x_train,\"y\")\n",
    "plt.show()"
   ]
  },
  {
   "cell_type": "code",
   "execution_count": 66,
   "metadata": {
    "colab": {
     "base_uri": "https://localhost:8080/"
    },
    "id": "BiH4WhiWFXg3",
    "outputId": "da4d75c8-e049-4592-ab56-1e1541d55805"
   },
   "outputs": [
    {
     "data": {
      "text/plain": [
       "64     4.747915\n",
       "133    1.890977\n",
       "8     -2.296789\n",
       "1      1.499333\n",
       "103   -1.406133\n",
       "         ...   \n",
       "134    2.281212\n",
       "111    2.990561\n",
       "96    -4.893532\n",
       "165   -6.547658\n",
       "185    5.634638\n",
       "Name: sales, Length: 134, dtype: float64"
      ]
     },
     "execution_count": 66,
     "metadata": {},
     "output_type": "execute_result"
    }
   ],
   "source": [
    "y_train_pred=model.predict(x_train_constant)\n",
    "res=(y_train-y_train_pred)\n",
    "res"
   ]
  },
  {
   "cell_type": "code",
   "execution_count": 67,
   "metadata": {
    "colab": {
     "base_uri": "https://localhost:8080/"
    },
    "id": "H3a7GpYXFnla",
    "outputId": "8b5b7b08-cfe1-4d37-b5a3-37eca2d7910c"
   },
   "outputs": [
    {
     "data": {
      "text/plain": [
       "array([13.25208546, 17.70902281,  7.09678867,  8.90066748, 16.10613328,\n",
       "       10.41813657, 17.64370129, 12.06122396, 15.55843748, 20.56809536,\n",
       "       10.44828496,  7.0867392 , 20.949975  , 17.39246469, 21.11579116,\n",
       "       10.13172684, 16.59353229, 12.18181753, 13.5083468 , 18.59337566,\n",
       "       17.55828085, 13.65908876, 19.27171449,  8.64943088, 15.46296757,\n",
       "       14.06609206,  7.56408875, 16.37244408,  7.32792634, 10.21212255,\n",
       "       11.49845397, 14.19171036, 15.2167557 , 19.99025117, 12.70438966,\n",
       "       11.54870129, 19.86463287,  9.35289337, 16.39756774, 16.66890327,\n",
       "       10.10157845,  7.25255536,  8.91071695, 17.05580764, 18.19642182,\n",
       "        6.93599724,  7.63945973,  8.10173508, 17.4879346 , 16.26692471,\n",
       "       11.38288513, 11.82506155, 12.5536477 , 16.65885381, 17.83966585,\n",
       "       17.92006156, 19.79428662,  7.03146715, 18.22657022, 17.45276148,\n",
       "       20.74396098, 10.49853228, 12.22704012,  8.83032123, 10.9708571 ,\n",
       "       13.66411349, 10.69449683, 18.72904342, 17.53818192, 15.49311597,\n",
       "       13.28223385, 15.83982248, 20.80425777, 20.76908465,  7.32290161,\n",
       "       11.20701951, 14.98561803, 18.32706486, 11.92053146, 15.33232454,\n",
       "       15.95539132,  8.01128991, 13.45809948, 12.85010689, 17.83966585,\n",
       "       20.91480188, 12.18181753, 16.7040764 ,  7.60931134,  7.52891563,\n",
       "        6.69983483, 21.41727508, 18.88481012, 10.45833443, 19.87468234,\n",
       "       12.33758422, 17.74419594, 10.4382355 , 21.22131053,  7.1018134 ,\n",
       "        7.52891563, 13.76460813, 20.4173534 , 20.07567162, 11.04622808,\n",
       "       13.16666501, 10.50355701,  6.87067572, 18.63357351,  7.6495092 ,\n",
       "       14.88009865,  8.04646303, 13.41287689, 18.71899396, 18.72904342,\n",
       "        7.51384143, 15.95539132, 12.74458752, 16.10110855, 15.55843748,\n",
       "       17.25679692,  7.92084473, 11.10150013, 12.49335092,  7.92586946,\n",
       "       20.57814483, 10.50355701,  9.79506979, 16.13125694,  8.51878784,\n",
       "       18.80943914, 16.59353229, 18.44765843, 16.96536246])"
      ]
     },
     "execution_count": 67,
     "metadata": {},
     "output_type": "execute_result"
    }
   ],
   "source": [
    "y_train_pred"
   ]
  },
  {
   "cell_type": "code",
   "execution_count": 68,
   "metadata": {
    "colab": {
     "base_uri": "https://localhost:8080/",
     "height": 504
    },
    "id": "me29Y6GlGdID",
    "outputId": "041f6113-328b-4395-e153-247f74d5c27e"
   },
   "outputs": [
    {
     "data": {
      "image/png": "[encoded data removed]",
      "text/plain": [
       "<Figure size 640x480 with 1 Axes>"
      ]
     },
     "metadata": {},
     "output_type": "display_data"
    }
   ],
   "source": [
    "fig=plt.figure()\n",
    "sns.distplot(res, bins=15)\n",
    "fig.suptitle(\"Error Terms\", fontsize=15)\n",
    "plt.xlabel(\"Difference in y_train and y_train_pred\", fontsize=15)\n",
    "plt.show()"
   ]
  },
  {
   "cell_type": "code",
   "execution_count": 69,
   "metadata": {
    "colab": {
     "base_uri": "https://localhost:8080/",
     "height": 430
    },
    "id": "7heRkkIFHQME",
    "outputId": "51f92e00-d007-4b1a-a360-0cb25e8b4e68"
   },
   "outputs": [
    {
     "data": {
      "image/png": "[encoded data removed]",
      "text/plain": [
       "<Figure size 640x480 with 1 Axes>"
      ]
     },
     "metadata": {},
     "output_type": "display_data"
    }
   ],
   "source": [
    "plt.scatter(x_train_reshaped,res)\n",
    "plt.show()"
   ]
  },
  {
   "cell_type": "code",
   "execution_count": 70,
   "metadata": {
    "id": "gX8NhslnHaJ6"
   },
   "outputs": [],
   "source": [
    "x_test_constant=sm.add_constant(x_test_reshaped)\n",
    "y_pred=model.predict(x_test_constant)"
   ]
  },
  {
   "cell_type": "code",
   "execution_count": 71,
   "metadata": {
    "colab": {
     "base_uri": "https://localhost:8080/"
    },
    "id": "EZBSkks_HoXU",
    "outputId": "898dd4cf-f60a-4b05-a987-b17e335296e7"
   },
   "outputs": [
    {
     "data": {
      "text/plain": [
       "array([ 7.60428661,  8.24745231, 14.93034597, 10.59400219, 12.71946386,\n",
       "       13.71436081,  9.17702775, 13.59376724, 15.12631052, 15.7493773 ,\n",
       "       18.12105084, 17.63867656,  7.95099312, 14.87004919, 17.73414647,\n",
       "       10.14177631, 11.70949271,  8.5740599 , 16.92013988, 14.2771308 ,\n",
       "       21.55796758, 17.38743996, 21.03539545, 11.47333031, 21.38210196,\n",
       "       12.98074993,  9.98600961, 19.41743172, 15.27202775, 16.7040764 ,\n",
       "       18.08085298,  9.55388265, 10.35281505, 17.25177219, 11.39795932,\n",
       "        7.86054794,  7.05659081, 16.83974416, 11.17184638, 14.18668563,\n",
       "       21.27155785, 14.53339214, 11.56377548, 18.13612504,  8.8252965 ,\n",
       "        9.0916073 , 20.0103501 , 10.07143006,  8.58410936, 13.67416295,\n",
       "       19.14609618, 13.84500385, 17.06083237, 10.02620747, 19.49782743,\n",
       "       19.16619511,  9.48856114, 18.68884557, 18.71396923, 18.01050674,\n",
       "        9.65940203, 15.04591481, 17.19650014, 17.60350344, 18.59337566,\n",
       "       16.48298818])"
      ]
     },
     "execution_count": 71,
     "metadata": {},
     "output_type": "execute_result"
    }
   ],
   "source": [
    "y_pred"
   ]
  }
 ],
 "metadata": {
  "colab": {
   "provenance": []
  },
  "kernelspec": {
   "display_name": "Python 3 (ipykernel)",
   "language": "python",
   "name": "python3"
  },
  "language_info": {
   "codemirror_mode": {
    "name": "ipython",
    "version": 3
   },
   "file_extension": ".py",
   "mimetype": "text/x-python",
   "name": "python",
   "nbconvert_exporter": "python",
   "pygments_lexer": "ipython3",
   "version": "3.7.0"
  }
 },
 "nbformat": 4,
 "nbformat_minor": 1
}
